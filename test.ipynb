{
 "cells": [
  {
   "cell_type": "code",
   "execution_count": 1,
   "id": "83526cbe",
   "metadata": {},
   "outputs": [],
   "source": [
    "import torch"
   ]
  },
  {
   "cell_type": "code",
   "execution_count": 5,
   "id": "95b16b90",
   "metadata": {},
   "outputs": [
    {
     "data": {
      "text/plain": [
       "tensor([[ 1.8293,  1.0069,  0.5743],\n",
       "        [-0.8632, -0.5266,  0.3418]])"
      ]
     },
     "execution_count": 5,
     "metadata": {},
     "output_type": "execute_result"
    }
   ],
   "source": [
    "x = torch.randn(2, 3) # two rows, three columns\n",
    "x"
   ]
  },
  {
   "cell_type": "code",
   "execution_count": 7,
   "id": "bfec4372",
   "metadata": {},
   "outputs": [
    {
     "name": "stdout",
     "output_type": "stream",
     "text": [
      "tensor([[[ 1.8293,  1.0069,  0.5743],\n",
      "         [-0.8632, -0.5266,  0.3418]],\n",
      "\n",
      "        [[ 1.8293,  1.0069,  0.5743],\n",
      "         [-0.8632, -0.5266,  0.3418]]]) torch.Size([2, 2, 3])\n"
     ]
    }
   ],
   "source": [
    "x_0 = torch.stack((x, x), dim=0)\n",
    "print(x_0, x_0.shape)"
   ]
  },
  {
   "cell_type": "code",
   "execution_count": 8,
   "id": "9305102b",
   "metadata": {},
   "outputs": [
    {
     "name": "stdout",
     "output_type": "stream",
     "text": [
      "tensor([[[ 1.8293,  1.0069,  0.5743],\n",
      "         [ 1.8293,  1.0069,  0.5743]],\n",
      "\n",
      "        [[-0.8632, -0.5266,  0.3418],\n",
      "         [-0.8632, -0.5266,  0.3418]]]) torch.Size([2, 2, 3])\n"
     ]
    }
   ],
   "source": [
    "x_1 = torch.stack((x, x), dim=1)\n",
    "print(x_1, x_1.shape)"
   ]
  },
  {
   "cell_type": "code",
   "execution_count": 9,
   "id": "1f6bdfb7",
   "metadata": {},
   "outputs": [
    {
     "data": {
      "text/plain": [
       "tensor([[ 1.8293,  1.0069,  0.5743,  1.8293,  1.0069,  0.5743],\n",
       "        [-0.8632, -0.5266,  0.3418, -0.8632, -0.5266,  0.3418]])"
      ]
     },
     "execution_count": 9,
     "metadata": {},
     "output_type": "execute_result"
    }
   ],
   "source": [
    "torch.cat((x,x), dim=1)"
   ]
  }
 ],
 "metadata": {
  "kernelspec": {
   "display_name": "drl-im",
   "language": "python",
   "name": "python3"
  },
  "language_info": {
   "codemirror_mode": {
    "name": "ipython",
    "version": 3
   },
   "file_extension": ".py",
   "mimetype": "text/x-python",
   "name": "python",
   "nbconvert_exporter": "python",
   "pygments_lexer": "ipython3",
   "version": "3.12.9"
  }
 },
 "nbformat": 4,
 "nbformat_minor": 5
}
